{
 "metadata": {
  "language_info": {
   "codemirror_mode": {
    "name": "ipython",
    "version": 3
   },
   "file_extension": ".py",
   "mimetype": "text/x-python",
   "name": "python",
   "nbconvert_exporter": "python",
   "pygments_lexer": "ipython3",
   "version": "3.8.2"
  },
  "orig_nbformat": 2,
  "kernelspec": {
   "name": "python382jvsc74a57bd0a06b25004640bd56e5ee60f608dbea6c79783ea7957b970cdff2647d345a558d",
   "display_name": "Python 3.8.2 64-bit ('py38': conda)"
  }
 },
 "nbformat": 4,
 "nbformat_minor": 2,
 "cells": [
  {
   "cell_type": "code",
   "execution_count": 21,
   "metadata": {},
   "outputs": [],
   "source": [
    "import os\n",
    "import pretty_midi\n",
    "\n",
    "import test"
   ]
  },
  {
   "cell_type": "code",
   "execution_count": 25,
   "metadata": {},
   "outputs": [],
   "source": [
    "data_path = './'\n",
    "midi_file = 'english/mid/en001a.mid'\n",
    "\n",
    "midi_file = os.path.join(data_path, midi_file)\n",
    "text_file = os.path.join(data_path, midi_file.replace('mid', 'txt'))\n",
    "\n",
    "midi = test.load_midi(midi_file)\n",
    "text = test.load_text(text_file)"
   ]
  },
  {
   "cell_type": "code",
   "execution_count": 26,
   "metadata": {},
   "outputs": [
    {
     "output_type": "stream",
     "name": "stdout",
     "text": [
      "Start:  2.4000, End:  2.8500, Pitch: 61.0000, Syllable: ei\nStart:  2.9813, End:  3.5813, Pitch: 61.0000, Syllable: b_ii\nStart:  3.5813, End:  4.0687, Pitch: 68.0000, Syllable: s_ii\nStart:  4.1813, End:  4.6125, Pitch: 68.0000, Syllable: d_ii\nStart:  4.8000, End:  5.2500, Pitch: 70.0000, Syllable: ii\nStart:  5.4000, End:  5.7938, Pitch: 70.0000, Syllable: e_f\nStart:  5.9625, End:  6.5438, Pitch: 68.0000, Syllable: j_ii\nStart:  7.1437, End:  7.6125, Pitch: 66.0000, Syllable: ei_ch\nStart:  7.7812, End:  8.2125, Pitch: 66.0000, Syllable: ai\nStart:  8.3250, End:  8.7938, Pitch: 65.0000, Syllable: j_ei\nStart:  8.9625, End:  9.2625, Pitch: 65.0000, Syllable: k_ei\nStart:  9.5250, End:  9.8625, Pitch: 63.0000, Syllable: e_l\nStart:  9.8625, End: 10.2000, Pitch: 63.0000, Syllable: e_m\nStart: 10.2000, End: 10.5000, Pitch: 63.0000, Syllable: e_n\nStart: 10.5000, End: 10.6500, Pitch: 63.0000, Syllable: ou\nStart: 10.7625, End: 11.1750, Pitch: 61.0000, Syllable: p_ii\nStart: 11.9250, End: 12.3938, Pitch: 68.0000, Syllable: k_y_uu\nStart: 12.5625, End: 12.9750, Pitch: 68.0000, Syllable: a_r\nStart: 13.1813, End: 13.7438, Pitch: 66.0000, Syllable: e_s\nStart: 14.3812, End: 15.0000, Pitch: 65.0000, Syllable: t_ii\nStart: 15.0000, End: 15.4313, Pitch: 65.0000, Syllable: y_uu\nStart: 15.5813, End: 15.9375, Pitch: 63.0000, Syllable: v_ii\nStart: 16.8000, End: 17.0813, Pitch: 68.0000, Syllable: d_ao\nStart: 17.0813, End: 17.4000, Pitch: 68.0000, Syllable: b_eo_l\nStart: 17.4000, End: 17.7750, Pitch: 68.0000, Syllable: y_uu\nStart: 17.9625, End: 18.4688, Pitch: 66.0000, Syllable: e_k_s\nStart: 19.1438, End: 19.7812, Pitch: 65.0000, Syllable: w_ai\nStart: 19.7812, End: 20.3438, Pitch: 65.0000, Syllable: eo_n_d\nStart: 20.3438, End: 20.7188, Pitch: 63.0000, Syllable: z_ii\nStart: 21.6000, End: 22.2000, Pitch: 61.0000, Syllable: n_au\nStart: 22.2000, End: 22.7812, Pitch: 61.0000, Syllable: ai\nStart: 22.7812, End: 23.4000, Pitch: 68.0000, Syllable: n_ou\nStart: 23.4000, End: 23.8688, Pitch: 68.0000, Syllable: m_ai\nStart: 24.0000, End: 24.4500, Pitch: 70.0000, Syllable: ei\nStart: 24.5813, End: 25.1250, Pitch: 70.0000, Syllable: b_ii\nStart: 25.1250, End: 25.4625, Pitch: 68.0000, Syllable: s_ii\nStart: 26.3438, End: 26.8500, Pitch: 66.0000, Syllable: n_e_k_s_t\nStart: 26.9812, End: 27.4875, Pitch: 66.0000, Syllable: t_ai_m\nStart: 27.5813, End: 28.1813, Pitch: 65.0000, Syllable: w_ou_n_t\nStart: 28.1813, End: 28.7625, Pitch: 65.0000, Syllable: y_uu\nStart: 28.7625, End: 29.3813, Pitch: 63.0000, Syllable: s_i_ng\nStart: 29.3813, End: 29.9438, Pitch: 63.0000, Syllable: w_i_dh\nStart: 29.9438, End: 30.3562, Pitch: 61.0000, Syllable: m_ii\nStart: 36.0562, End: 36.5250, Pitch: 61.0000, Syllable: ei\nStart: 36.6375, End: 37.1812, Pitch: 61.0000, Syllable: b_ii\nStart: 37.1812, End: 37.7063, Pitch: 68.0000, Syllable: s_ii\nStart: 37.8188, End: 38.2875, Pitch: 68.0000, Syllable: d_ii\nStart: 38.4563, End: 38.8500, Pitch: 70.0000, Syllable: ii\nStart: 39.0562, End: 39.3563, Pitch: 70.0000, Syllable: e_f\nStart: 39.5625, End: 40.0312, Pitch: 68.0000, Syllable: j_ii\nStart: 40.8188, End: 41.3438, Pitch: 66.0000, Syllable: ei_ch\nStart: 41.4563, End: 41.9250, Pitch: 66.0000, Syllable: ai\nStart: 42.0000, End: 42.4875, Pitch: 65.0000, Syllable: j_ei\nStart: 42.6000, End: 43.0500, Pitch: 65.0000, Syllable: k_ei\nStart: 43.2000, End: 43.5188, Pitch: 63.0000, Syllable: e_l\nStart: 43.5188, End: 43.8188, Pitch: 63.0000, Syllable: e_m\nStart: 43.8188, End: 44.1375, Pitch: 63.0000, Syllable: e_n\nStart: 44.1375, End: 44.2875, Pitch: 63.0000, Syllable: ou\nStart: 44.4375, End: 44.7563, Pitch: 61.0000, Syllable: p_ii\nStart: 45.5813, End: 45.9937, Pitch: 68.0000, Syllable: k_y_uu\nStart: 46.2000, End: 46.6500, Pitch: 68.0000, Syllable: a_r\nStart: 46.8000, End: 47.4000, Pitch: 66.0000, Syllable: e_s\nStart: 48.0000, End: 48.6000, Pitch: 65.0000, Syllable: t_ii\nStart: 48.6000, End: 49.0688, Pitch: 65.0000, Syllable: y_uu\nStart: 49.2000, End: 49.6688, Pitch: 63.0000, Syllable: v_ii\nStart: 50.4000, End: 50.7000, Pitch: 68.0000, Syllable: d_ao\nStart: 50.7000, End: 51.0000, Pitch: 68.0000, Syllable: b_eo_l\nStart: 51.0000, End: 51.4500, Pitch: 68.0000, Syllable: y_uu\nStart: 51.6000, End: 52.0688, Pitch: 66.0000, Syllable: e_k_s\nStart: 52.7812, End: 53.4000, Pitch: 65.0000, Syllable: w_ai\nStart: 53.4000, End: 53.9625, Pitch: 65.0000, Syllable: eo_n_d\nStart: 53.9625, End: 54.2812, Pitch: 63.0000, Syllable: z_ii\nStart: 55.2000, End: 55.8000, Pitch: 61.0000, Syllable: n_au\nStart: 55.8000, End: 56.4000, Pitch: 61.0000, Syllable: ai\nStart: 56.4000, End: 57.0000, Pitch: 68.0000, Syllable: n_ou\nStart: 57.0000, End: 57.4688, Pitch: 68.0000, Syllable: m_ai\nStart: 57.6187, End: 58.1250, Pitch: 70.0000, Syllable: ei\nStart: 58.2188, End: 58.7625, Pitch: 70.0000, Syllable: b_ii\nStart: 58.7625, End: 59.2125, Pitch: 68.0000, Syllable: s_ii\nStart: 60.0000, End: 60.4125, Pitch: 66.0000, Syllable: w_ou_n_t\nStart: 60.5813, End: 61.1625, Pitch: 66.0000, Syllable: y_uu\nStart: 61.1625, End: 61.7812, Pitch: 65.0000, Syllable: s_i_ng\nStart: 61.7812, End: 62.4000, Pitch: 65.0000, Syllable: eo\nStart: 62.4000, End: 63.0000, Pitch: 63.0000, Syllable: l_ou_ng\nStart: 63.0000, End: 63.5625, Pitch: 63.0000, Syllable: w_i_dh\nStart: 63.5625, End: 63.8813, Pitch: 61.0000, Syllable: m_ii\n"
     ]
    }
   ],
   "source": [
    "if len(midi) != len(text):\n",
    "    assert 'The number of note and syllable are not equal.'\n",
    "\n",
    "for i in range(len(midi)):\n",
    "    print('Start: {:7.4f}, End: {:7.4f}, Pitch: {:7.4f}, Syllable: {}'.format(\n",
    "        midi[i].start, midi[i].end, midi[i].pitch, text[i]))"
   ]
  }
 ]
}